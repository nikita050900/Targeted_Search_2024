{
 "cells": [
  {
   "cell_type": "code",
   "execution_count": 1,
   "id": "eaa0a509",
   "metadata": {},
   "outputs": [
    {
     "name": "stderr",
     "output_type": "stream",
     "text": [
      "WARNING: AstropyDeprecationWarning: The private astropy._erfa module has been made into its own package, pyerfa, which is a dependency of astropy and can be imported directly using \"import erfa\" [astropy._erfa]\n"
     ]
    }
   ],
   "source": [
    "import numpy as np\n",
    "import enterprise\n",
    "from enterprise.pulsar import Pulsar\n",
    "import enterprise.signals.parameter as parameter\n",
    "from enterprise.signals import utils\n",
    "from enterprise.signals import signal_base\n",
    "from enterprise.signals import selections\n",
    "from enterprise.signals.selections import Selection\n",
    "from enterprise.signals import white_signals\n",
    "from enterprise.signals import gp_signals\n",
    "from enterprise.signals import deterministic_signals\n",
    "import enterprise.constants as const"
   ]
  },
  {
   "cell_type": "code",
   "execution_count": 2,
   "id": "1849e9e8",
   "metadata": {},
   "outputs": [
    {
     "name": "stdout",
     "output_type": "stream",
     "text": [
      "-13.950385641787856\n"
     ]
    }
   ],
   "source": [
    "#For 3C66B\n",
    "\n",
    "mc = 1120071680.0 #chirp mass in solar masses\n",
    "fgw = 6.0358262e-8 #gw frequency in Hz\n",
    "dL =85.8e6#93.6e6 #parsec\n",
    "#log10_h = -18\n",
    "\n",
    "G = 6.67e-11   #gravitational constant\n",
    "c = 3e8       #speed of light\n",
    "T_sun = 1.9e30 #1 solarmass in kg\n",
    "par = 3e16  #1 parsec in m\n",
    "\n",
    "h = (np.power(G,5/3)*2*np.power((mc*T_sun),5/3)*np.power(np.pi*fgw,2/3))/(np.power(c,4)*dL*par)\n",
    "\n",
    "print(np.log10(h))\n"
   ]
  },
  {
   "cell_type": "code",
   "execution_count": 3,
   "id": "eaedc2da",
   "metadata": {},
   "outputs": [
    {
     "name": "stdout",
     "output_type": "stream",
     "text": [
      "100000000000\n",
      "11.0\n"
     ]
    }
   ],
   "source": [
    "#log10(Mc) to Mc in solar masses\n",
    "log10_Mc = 11\n",
    "print(np.power(10,log10_Mc))\n",
    "print(np.log10(100000000000))"
   ]
  },
  {
   "cell_type": "code",
   "execution_count": 9,
   "id": "76d5de00",
   "metadata": {},
   "outputs": [
    {
     "name": "stdout",
     "output_type": "stream",
     "text": [
      "-7.219263274109778\n"
     ]
    }
   ],
   "source": [
    "#fGW to log10_gGW  \n",
    "fGW = 6.0358262e-8\n",
    "print(np.log10(fGW))\n",
    "#print(np.log10(3e-7))"
   ]
  },
  {
   "cell_type": "code",
   "execution_count": 4,
   "id": "511706d4",
   "metadata": {},
   "outputs": [
    {
     "ename": "ValueError",
     "evalue": "Integers to negative integer powers are not allowed.",
     "output_type": "error",
     "traceback": [
      "\u001b[0;31m---------------------------------------------------------------------------\u001b[0m",
      "\u001b[0;31mValueError\u001b[0m                                Traceback (most recent call last)",
      "Cell \u001b[0;32mIn [4], line 2\u001b[0m\n\u001b[1;32m      1\u001b[0m log10_h \u001b[38;5;241m=\u001b[39m \u001b[38;5;241m-\u001b[39m\u001b[38;5;241m18\u001b[39m\n\u001b[0;32m----> 2\u001b[0m \u001b[38;5;28mprint\u001b[39m(np\u001b[38;5;241m.\u001b[39mpower(\u001b[38;5;241m10\u001b[39m,log10_h))\n",
      "\u001b[0;31mValueError\u001b[0m: Integers to negative integer powers are not allowed."
     ]
    }
   ],
   "source": [
    "log10_h = -18\n",
    "print(np.power(10,log10_h))"
   ]
  },
  {
   "cell_type": "code",
   "execution_count": null,
   "id": "3161f81a",
   "metadata": {
    "scrolled": true
   },
   "outputs": [],
   "source": [
    "#log10(h) to h\n",
    "log10_h = -11\n",
    "print(10**log10_h)"
   ]
  },
  {
   "cell_type": "code",
   "execution_count": null,
   "id": "0b421138",
   "metadata": {},
   "outputs": [],
   "source": [
    "#log10(dL) to dL\n",
    "dL = 9.7 # MEGAPARSEC\n",
    "log10_d_L =np.log10(dL)/np.log10(10) #MEGAPARSEC\n",
    "print(\"log10_d_L\",log10_d_L)"
   ]
  },
  {
   "cell_type": "code",
   "execution_count": null,
   "id": "0e011b60",
   "metadata": {},
   "outputs": [],
   "source": [
    "#CORRECT CODE MATCHING WITH BENCE'S!!!!!!!!!!!!!!!!!!!!!!!!!!!!!!!!\n",
    "#FOR 3C66B\n",
    "#Detection Analysis (calculate h)\n",
    "\n",
    "mmm = 4000000 #chirp mass\n",
    "fff = 6.0358262e-8  #1e-8  #gw frequency\n",
    "dL = 93.6 # MEGAPARSEC\n",
    "log10_d_L =np.log10(dL)/np.log10(10) #MEGAPARSEC\n",
    "\n",
    "megaparsec = 3.086e+22 #meter\n",
    "speed_of_light = 299792458.0 #m/s\n",
    "T_sun = 1.327124400e20 / speed_of_light**3 #G*M_sun/c^3 = R_sun/c-->Sun time\n",
    "print(T_sun)\n",
    "\n",
    "h_amp = (2 * (mmm*T_sun)**(5/3) * (np.pi*fff)**(2/3) / np.power(10,log10_d_L)) * (speed_of_light/megaparsec)\n",
    "\n",
    "#log10_d_L = np.log10(2 * (mmm*T_sun)**(5/3) * (np.pi*fff)**(2/3) / h_amp *speed_of_light*megaparsec)\n",
    "\n",
    "print(\"log10_d_L\",log10_d_L)\n",
    "print(\"Amplitude\",h_amp)\n",
    "print(\"Log10 amplitude\",np.log10(h_amp))\n",
    "print(\"Log10 Mc\",np.log10(mmm))"
   ]
  },
  {
   "cell_type": "code",
   "execution_count": 6,
   "id": "671e4470",
   "metadata": {},
   "outputs": [
    {
     "name": "stdout",
     "output_type": "stream",
     "text": [
      "log10_d_L 1.9294189257142929\n",
      "Log10 amplitude -18.0\n",
      "Chirp Mass 3810432.955632391\n",
      "Log10 Mc 6.580974324641315\n"
     ]
    }
   ],
   "source": [
    "#CORRECT CODE MATCHING WITH BENCE'S!!!!!!!!!!!!!!!!!!!!!!!!!!!!!!!!\n",
    "#FOR 3C66B\n",
    "#Upper limit (Calculate Mc)\n",
    "\n",
    "#mmm = 100000000000 #chirp mass\n",
    "fff = 6.0358262e-8  #1e-8  #gw frequency\n",
    "dL = 85#93.6 # MEGAPARSEC\n",
    "log10_d_L =np.log10(dL)/np.log10(10) #MEGAPARSEC\n",
    "h_amp = 1e-18\n",
    "\n",
    "megaparsec = 3.086e+22 #meter\n",
    "speed_of_light = 299792458.0 #m/s\n",
    "T_sun = 1.327124400e20 / speed_of_light**3 #G*M_sun/c^3 = R_sun/c-->Sun time\n",
    "\n",
    "\n",
    "#h_amp = (2 * (mmm*T_sun)**(5/3) * (np.pi*fff)**(2/3) / np.power(10,log10_d_L)) * (speed_of_light/megaparsec)\n",
    "\n",
    "mmm = np.power(h_amp*(megaparsec/speed_of_light)*(np.power(10,log10_d_L)/(2 * (T_sun)**(5/3) * (np.pi*fff)**(2/3))),3/5) \n",
    "\n",
    "#log10_d_L = np.log10(2 * (mmm*T_sun)**(5/3) * (np.pi*fff)**(2/3) / h_amp *speed_of_light*megaparsec)\n",
    "\n",
    "print(\"log10_d_L\",log10_d_L)\n",
    "print(\"Log10 amplitude\",np.log10(h_amp))\n",
    "print(\"Chirp Mass\",mmm)\n",
    "print(\"Log10 Mc\",np.log10(mmm))"
   ]
  },
  {
   "cell_type": "code",
   "execution_count": 5,
   "id": "038ff823",
   "metadata": {},
   "outputs": [
    {
     "name": "stdout",
     "output_type": "stream",
     "text": [
      "log10_d_L 3.17070165581607\n",
      "Log10 amplitude -18.0\n",
      "Chirp Mass 56209169.00595494\n",
      "Log10 Mc 7.749807164748622\n"
     ]
    }
   ],
   "source": [
    "#CORRECT CODE MATCHING WITH BENCE'S!!!!!!!!!!!!!!!!!!!!!!!!!!!!!!!!\n",
    "#FOR OJ287\n",
    "#Upper limit (Calculate Mc)\n",
    "\n",
    "#mmm = 100000000000 #chirp mass\n",
    "fff = 5.25507260597495e-09  #1e-8  #gw frequency\n",
    "dL = 1481.5#93.6 # MEGAPARSEC\n",
    "log10_d_L =np.log10(dL)/np.log10(10) #MEGAPARSEC\n",
    "h_amp = 1e-18\n",
    "\n",
    "megaparsec = 3.086e+22 #meter\n",
    "speed_of_light = 299792458.0 #m/s\n",
    "T_sun = 1.327124400e20 / speed_of_light**3 #G*M_sun/c^3 = R_sun/c-->Sun time\n",
    "\n",
    "\n",
    "#h_amp = (2 * (mmm*T_sun)**(5/3) * (np.pi*fff)**(2/3) / np.power(10,log10_d_L)) * (speed_of_light/megaparsec)\n",
    "\n",
    "mmm = np.power(h_amp*(megaparsec/speed_of_light)*(np.power(10,log10_d_L)/(2 * (T_sun)**(5/3) * (np.pi*fff)**(2/3))),3/5) \n",
    "\n",
    "#log10_d_L = np.log10(2 * (mmm*T_sun)**(5/3) * (np.pi*fff)**(2/3) / h_amp *speed_of_light*megaparsec)\n",
    "\n",
    "print(\"log10_d_L\",log10_d_L)\n",
    "print(\"Log10 amplitude\",np.log10(h_amp))\n",
    "print(\"Chirp Mass\",mmm)\n",
    "print(\"Log10 Mc\",np.log10(mmm))"
   ]
  },
  {
   "cell_type": "code",
   "execution_count": 7,
   "id": "b9d4c4ea",
   "metadata": {},
   "outputs": [
    {
     "name": "stdout",
     "output_type": "stream",
     "text": [
      "-7.219263274109778\n",
      "6.035826200000001e-08\n",
      "4.9254909476412675e-06\n",
      "log10_d_L 1.9334872878487055\n",
      "Strain 4.391785260264414e-14\n",
      "Log10 Strain -13.357358903203272\n",
      "Log10 Mc 9.369\n"
     ]
    }
   ],
   "source": [
    "#CORRECT CODE MATCHING WITH BENCE'S!!!!!!!!!!!!!!!!!!!!!!!!!!!!!!!!\n",
    "#FOR 3C66B\n",
    "#Upper Analysis (calculate h)\n",
    "\n",
    "mmm = 10**9.369#9.0683 #chirp mass\n",
    "fff = 6.0358262e-8  #1e-8  #gw frequency\n",
    "print(np.log10(fff))\n",
    "print(10**np.log10(fff))\n",
    "dL = 85.8#93.6 # MEGAPARSEC\n",
    "log10_d_L =np.log10(dL)/np.log10(10) #MEGAPARSEC\n",
    "\n",
    "megaparsec = 3.086e+22 #meter\n",
    "speed_of_light = 299792458.0 #m/s\n",
    "T_sun = 1.327124400e20 / speed_of_light**3 #G*M_sun/c^3 = R_sun/c-->Sun time\n",
    "print(T_sun)\n",
    "\n",
    "h_amp = (2 * (mmm*T_sun)**(5/3) * (np.pi*fff)**(2/3) / np.power(10,log10_d_L)) * (speed_of_light/megaparsec)\n",
    "\n",
    "#log10_d_L = np.log10(2 * (mmm*T_sun)**(5/3) * (np.pi*fff)**(2/3) / h_amp *speed_of_light*megaparsec)\n",
    "\n",
    "print(\"log10_d_L\",log10_d_L)\n",
    "print(\"Strain\",h_amp)\n",
    "print(\"Log10 Strain\",np.log10(h_amp))\n",
    "print(\"Log10 Mc\",np.log10(mmm))"
   ]
  },
  {
   "cell_type": "code",
   "execution_count": 42,
   "id": "6987b192",
   "metadata": {},
   "outputs": [
    {
     "name": "stdout",
     "output_type": "stream",
     "text": [
      "log10_d_L 0.9867717342662448\n",
      "Amplitude 1.0089403706814178e-18\n",
      "Log10 amplitude -17.996134500214293\n",
      "Log10 Mc 5.93\n"
     ]
    }
   ],
   "source": [
    "#CORRECT CODE MATCHING WITH BENCE'S!!!!!!!!!!!!!!!!!!!!!!!!!!!!!!!!\n",
    "#FOR NGC3115\n",
    "#Detection Analysis (calculate h)\n",
    "\n",
    "mmm = 10**5.93 #chirp mass\n",
    "#print(np.exp(-8.7035))\n",
    "fff = 1e-7#1.660037797979154e-04  #1e-8  #gw frequency\n",
    "dL = 9.7 # MEGAPARSEC\n",
    "log10_d_L =np.log10(dL)/np.log10(10) #MEGAPARSEC\n",
    "\n",
    "megaparsec = 3.086e+22 #meter\n",
    "speed_of_light = 299792458.0 #m/s\n",
    "T_sun = 1.327124400e20 / speed_of_light**3 #G*M_sun/c^3 = R_sun/c-->Sun time\n",
    "#print(T_sun)\n",
    "\n",
    "h_amp = (2 * (mmm*T_sun)**(5/3) * (np.pi*fff)**(2/3) / np.power(10,log10_d_L)) * (speed_of_light/megaparsec)\n",
    "\n",
    "#log10_d_L = np.log10(2 * (mmm*T_sun)**(5/3) * (np.pi*fff)**(2/3) / h_amp *speed_of_light*megaparsec)\n",
    "\n",
    "print(\"log10_d_L\",log10_d_L)\n",
    "print(\"Amplitude\",h_amp)\n",
    "print(\"Log10 amplitude\",np.log10(h_amp))\n",
    "print(\"Log10 Mc\",np.log10(mmm))"
   ]
  },
  {
   "cell_type": "code",
   "execution_count": 15,
   "id": "236cb7d3",
   "metadata": {},
   "outputs": [
    {
     "name": "stdout",
     "output_type": "stream",
     "text": [
      "val 1.5848931924611143e-08\n",
      "val2 -7.8\n",
      "log10_d_L 0.9867717342662448\n",
      "Log10 amplitude -11.0\n",
      "Chirp Mass 28033717987.518833\n",
      "Log10 Mc 10.447680700128576\n"
     ]
    }
   ],
   "source": [
    "#CORRECT CODE MATCHING WITH BENCE'S!!!!!!!!!!!!!!!!!!!!!!!!!!!!!!!!\n",
    "#FOR NGC3115\n",
    "#Upper limit (Calculate Mc)\n",
    "\n",
    "#mmm = 100000000000 #chirp mass\n",
    "fff = 10**(-7.3-.5) #1e-7#1.660037797979154e-04  #1e-8  #gw frequency\n",
    "print(\"val\",fff)\n",
    "print(\"val2\",np.log10(fff))\n",
    "\n",
    "#6, 10.5\n",
    "\n",
    "#print(np.log10(fff))\n",
    "dL = 9.7 # MEGAPARSEC\n",
    "log10_d_L =np.log10(dL)/np.log10(10) #MEGAPARSEC\n",
    "h_amp = 1e-11\n",
    "\n",
    "megaparsec = 3.086e+22 #meter\n",
    "speed_of_light = 299792458.0 #m/s\n",
    "T_sun = 1.327124400e20 / speed_of_light**3 #G*M_sun/c^3 = R_sun/c-->Sun time\n",
    "\n",
    "\n",
    "#h_amp = (2 * (mmm*T_sun)**(5/3) * (np.pi*fff)**(2/3) / np.power(10,log10_d_L)) * (speed_of_light/megaparsec)\n",
    "\n",
    "mmm = np.power(h_amp*(megaparsec/speed_of_light)*(np.power(10,log10_d_L)/(2 * (T_sun)**(5/3) * (np.pi*fff)**(2/3))),3/5) \n",
    "\n",
    "#log10_d_L = np.log10(2 * (mmm*T_sun)**(5/3) * (np.pi*fff)**(2/3) / h_amp *speed_of_light*megaparsec)\n",
    "\n",
    "print(\"log10_d_L\",log10_d_L)\n",
    "print(\"Log10 amplitude\",np.log10(h_amp))\n",
    "print(\"Chirp Mass\",mmm)\n",
    "print(\"Log10 Mc\",np.log10(mmm))"
   ]
  },
  {
   "cell_type": "code",
   "execution_count": 3,
   "id": "b87c4c9d",
   "metadata": {},
   "outputs": [
    {
     "name": "stdout",
     "output_type": "stream",
     "text": [
      "chirp mass 851138.0382023759\n",
      "log10 Mc 5.93\n",
      "log10_d_L 0.9867717342662448\n",
      "Log10 amplitude -18.0\n",
      "fGW 9.867377655242947e-08\n",
      "Log10 fGW -7.005798249678561\n"
     ]
    }
   ],
   "source": [
    "#CORRECT CODE MATCHING WITH BENCE'S!!!!!!!!!!!!!!!!!!!!!!!!!!!!!!!!\n",
    "#FOR NGC3115\n",
    "#Upper limit (Calculate fGW)\n",
    "\n",
    "mmm = 10**5.93 #chirp mass\n",
    "dL = 9.7# MEGAPARSEC\n",
    "log10_d_L =np.log10(dL)/np.log10(10) #MEGAPARSEC\n",
    "h_amp = 1e-18\n",
    "\n",
    "megaparsec = 3.086e+22 #meter\n",
    "speed_of_light = 299792458.0 #m/s\n",
    "T_sun = 1.327124400e20 / speed_of_light**3 #G*M_sun/c^3 = R_sun/c-->Sun time\n",
    "\n",
    "\n",
    "fff = np.power(h_amp*(megaparsec/speed_of_light)*(np.power(10,log10_d_L))/(2 * (mmm*T_sun)**(5/3)),3/2)*(1/np.pi)\n",
    "\n",
    "print(\"chirp mass\",mmm)\n",
    "print(\"log10 Mc\",np.log10(mmm))\n",
    "print(\"log10_d_L\",log10_d_L)\n",
    "print(\"Log10 amplitude\",np.log10(h_amp))\n",
    "print(\"fGW\",fff)\n",
    "print(\"Log10 fGW\",np.log10(fff))"
   ]
  },
  {
   "cell_type": "code",
   "execution_count": 5,
   "id": "b4674fbb",
   "metadata": {},
   "outputs": [
    {
     "name": "stdout",
     "output_type": "stream",
     "text": [
      "-7.008970004336018\n"
     ]
    }
   ],
   "source": [
    "x=(10**-7.31)*2\n",
    "print(np.log10(x))"
   ]
  },
  {
   "cell_type": "code",
   "execution_count": 3,
   "id": "4803c9f6",
   "metadata": {},
   "outputs": [
    {
     "ename": "ValueError",
     "evalue": "Integers to negative integer powers are not allowed.",
     "output_type": "error",
     "traceback": [
      "\u001b[0;31m---------------------------------------------------------------------------\u001b[0m",
      "\u001b[0;31mValueError\u001b[0m                                Traceback (most recent call last)",
      "Cell \u001b[0;32mIn [3], line 1\u001b[0m\n\u001b[0;32m----> 1\u001b[0m np\u001b[38;5;241m.\u001b[39mpower(\u001b[38;5;241m10\u001b[39m,\u001b[38;5;241m-\u001b[39m\u001b[38;5;241m18\u001b[39m)\n",
      "\u001b[0;31mValueError\u001b[0m: Integers to negative integer powers are not allowed."
     ]
    }
   ],
   "source": [
    "np.power(10,-18)"
   ]
  },
  {
   "cell_type": "code",
   "execution_count": null,
   "id": "27963256",
   "metadata": {},
   "outputs": [],
   "source": []
  }
 ],
 "metadata": {
  "kernelspec": {
   "display_name": "Python 3",
   "language": "python",
   "name": "python3"
  },
  "language_info": {
   "codemirror_mode": {
    "name": "ipython",
    "version": 3
   },
   "file_extension": ".py",
   "mimetype": "text/x-python",
   "name": "python",
   "nbconvert_exporter": "python",
   "pygments_lexer": "ipython3",
   "version": "3.9.12"
  }
 },
 "nbformat": 4,
 "nbformat_minor": 5
}
