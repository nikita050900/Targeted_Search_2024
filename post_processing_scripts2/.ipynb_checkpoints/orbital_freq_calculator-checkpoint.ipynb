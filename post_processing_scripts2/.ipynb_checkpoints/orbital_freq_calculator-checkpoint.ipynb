{
 "cells": [
  {
   "cell_type": "code",
   "execution_count": 1,
   "id": "eaa0a509",
   "metadata": {},
   "outputs": [
    {
     "name": "stderr",
     "output_type": "stream",
     "text": [
      "WARNING: AstropyDeprecationWarning: The private astropy._erfa module has been made into its own package, pyerfa, which is a dependency of astropy and can be imported directly using \"import erfa\" [astropy._erfa]\n"
     ]
    }
   ],
   "source": [
    "import numpy as np\n",
    "import enterprise\n",
    "from enterprise.pulsar import Pulsar\n",
    "import enterprise.signals.parameter as parameter\n",
    "from enterprise.signals import utils\n",
    "from enterprise.signals import signal_base\n",
    "from enterprise.signals import selections\n",
    "from enterprise.signals.selections import Selection\n",
    "from enterprise.signals import white_signals\n",
    "from enterprise.signals import gp_signals\n",
    "from enterprise.signals import deterministic_signals\n",
    "import enterprise.constants as const"
   ]
  },
  {
   "cell_type": "code",
   "execution_count": 2,
   "id": "7110af6f",
   "metadata": {},
   "outputs": [
    {
     "name": "stdout",
     "output_type": "stream",
     "text": [
      "6.035826250291229e-08\n"
     ]
    }
   ],
   "source": [
    "#3c66b\n",
    "t = 1.05 #in Years\n",
    "\n",
    "fGW = 2/(t*365.25*24*60*60)\n",
    "print(fGW)"
   ]
  },
  {
   "cell_type": "code",
   "execution_count": 3,
   "id": "27963256",
   "metadata": {},
   "outputs": [
    {
     "name": "stdout",
     "output_type": "stream",
     "text": [
      "5.25507260597495e-09\n"
     ]
    },
    {
     "data": {
      "text/plain": [
       "5.25507260597495e-09"
      ]
     },
     "execution_count": 3,
     "metadata": {},
     "output_type": "execute_result"
    }
   ],
   "source": [
    "#OJ 287\n",
    "t = 12.06 #in Years\n",
    "\n",
    "fGW = 2/(t*365.25*24*60*60)\n",
    "print(fGW)\n"
   ]
  },
  {
   "cell_type": "code",
   "execution_count": null,
   "id": "188a8c60",
   "metadata": {},
   "outputs": [],
   "source": []
  }
 ],
 "metadata": {
  "kernelspec": {
   "display_name": "Python 3",
   "language": "python",
   "name": "python3"
  },
  "language_info": {
   "codemirror_mode": {
    "name": "ipython",
    "version": 3
   },
   "file_extension": ".py",
   "mimetype": "text/x-python",
   "name": "python",
   "nbconvert_exporter": "python",
   "pygments_lexer": "ipython3",
   "version": "3.9.12"
  }
 },
 "nbformat": 4,
 "nbformat_minor": 5
}
