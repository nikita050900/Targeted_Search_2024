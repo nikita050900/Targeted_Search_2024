{
 "cells": [
  {
   "cell_type": "markdown",
   "id": "18538b6b",
   "metadata": {},
   "source": [
    "# Postprocessing"
   ]
  },
  {
   "cell_type": "code",
   "execution_count": 1,
   "id": "cdee1d1e",
   "metadata": {
    "tags": []
   },
   "outputs": [
    {
     "name": "stderr",
     "output_type": "stream",
     "text": [
      "WARNING: AstropyDeprecationWarning: The private astropy._erfa module has been made into its own package, pyerfa, which is a dependency of astropy and can be imported directly using \"import erfa\" [astropy._erfa]\n"
     ]
    }
   ],
   "source": [
    "%matplotlib inline\n",
    "%config InlineBackend.figure_format = 'retina'\n",
    "%load_ext autoreload\n",
    "#%load_ext line_profiler\n",
    "#%load_ext snakeviz\n",
    "%autoreload 2\n",
    "\n",
    "import numpy as np\n",
    "import matplotlib\n",
    "import matplotlib.pyplot as plt\n",
    "import corner\n",
    "\n",
    "import pickle\n",
    "\n",
    "import enterprise\n",
    "from enterprise.pulsar import Pulsar\n",
    "import enterprise.signals.parameter as parameter\n",
    "from enterprise.signals import utils\n",
    "from enterprise.signals import signal_base\n",
    "from enterprise.signals import selections\n",
    "from enterprise.signals.selections import Selection\n",
    "from enterprise.signals import white_signals\n",
    "from enterprise.signals import gp_signals\n",
    "from enterprise.signals import deterministic_signals\n",
    "import enterprise.constants as const\n",
    "\n",
    "from enterprise_extensions import deterministic\n",
    "\n",
    "from scipy.stats import norm\n",
    "\n",
    "import libstempo as T2\n",
    "import libstempo.toasim as LT\n",
    "import libstempo.plot as LP\n",
    "\n",
    "import glob\n",
    "import json\n",
    "import h5py\n",
    "import healpy as hp\n",
    "import scipy.constants as sc\n",
    "import emcee\n",
    "\n",
    "from numba.typed import List\n",
    "\n",
    "import sys\n",
    "import h5py"
   ]
  },
  {
   "cell_type": "code",
   "execution_count": 2,
   "id": "22bd0578",
   "metadata": {},
   "outputs": [
    {
     "name": "stdout",
     "output_type": "stream",
     "text": [
      "67\n"
     ]
    }
   ],
   "source": [
    "#load psr pickles\n",
    "\n",
    "#make sure this points to the same pickled pulsars we used for the MCMC\n",
    "data_pkl = '/scratch/na00078/15yr_data/15yrCW/v1p1_de440_pint_bipm2019_unshifted_pdist.pkl'\n",
    "\n",
    "#with open('nanograv_11yr_psrs_old.pkl', 'rb') as psr_pkl:\n",
    "with open(data_pkl, 'rb') as psr_pkl:\n",
    "    psrs = pickle.load(psr_pkl)\n",
    "    \n",
    "print(len(psrs))"
   ]
  },
  {
   "cell_type": "code",
   "execution_count": 3,
   "id": "f87cc3ed",
   "metadata": {
    "scrolled": false,
    "tags": []
   },
   "outputs": [
    {
     "name": "stdout",
     "output_type": "stream",
     "text": [
      "67\n",
      "0: B1855+09\n",
      "1: B1937+21\n",
      "2: B1953+29\n",
      "3: J0023+0923\n",
      "4: J0030+0451\n",
      "5: J0340+4130\n",
      "6: J0406+3039\n",
      "7: J0437-4715\n",
      "8: J0509+0856\n",
      "9: J0557+1551\n",
      "10: J0605+3757\n",
      "11: J0610-2100\n",
      "12: J0613-0200\n",
      "13: J0636+5128\n",
      "14: J0645+5158\n",
      "15: J0709+0458\n",
      "16: J0740+6620\n",
      "17: J0931-1902\n",
      "18: J1012+5307\n",
      "19: J1012-4235\n",
      "20: J1022+1001\n",
      "21: J1024-0719\n",
      "22: J1125+7819\n",
      "23: J1312+0051\n",
      "24: J1453+1902\n",
      "25: J1455-3330\n",
      "26: J1600-3053\n",
      "27: J1614-2230\n",
      "28: J1630+3734\n",
      "29: J1640+2224\n",
      "30: J1643-1224\n",
      "31: J1705-1903\n",
      "32: J1713+0747\n",
      "33: J1719-1438\n",
      "34: J1730-2304\n",
      "35: J1738+0333\n",
      "36: J1741+1351\n",
      "37: J1744-1134\n",
      "38: J1745+1017\n",
      "39: J1747-4036\n",
      "40: J1751-2857\n",
      "41: J1802-2124\n",
      "42: J1811-2405\n",
      "43: J1832-0836\n",
      "44: J1843-1113\n",
      "45: J1853+1303\n",
      "46: J1903+0327\n",
      "47: J1909-3744\n",
      "48: J1910+1256\n",
      "49: J1911+1347\n",
      "50: J1918-0642\n",
      "51: J1923+2515\n",
      "52: J1944+0907\n",
      "53: J1946+3417\n",
      "54: J2010-1323\n",
      "55: J2017+0603\n",
      "56: J2033+1734\n",
      "57: J2043+1711\n",
      "58: J2124-3358\n",
      "59: J2145-0750\n",
      "60: J2214+3000\n",
      "61: J2229+2643\n",
      "62: J2234+0611\n",
      "63: J2234+0944\n",
      "64: J2302+4442\n",
      "65: J2317+1439\n",
      "66: J2322+2057\n"
     ]
    }
   ],
   "source": [
    "#load psr names only if we want to save RAM\n",
    "class psr_name:\n",
    "    def __init__(self, name):\n",
    "        self.name = name\n",
    "\n",
    "psrListFile = \"/scratch/na00078/15yr_data/15yr_v1_1/psrlist_15yr_pint.txt\"\n",
    "\n",
    "psrs = []\n",
    "with open(psrListFile, 'r') as fff:\n",
    "    for line in fff:\n",
    "        psrname = line.strip()\n",
    "        #print(psrname)\n",
    "        psrs.append(psr_name(psrname))\n",
    "        \n",
    "print(len(psrs))\n",
    "for i,psr in enumerate(psrs):\n",
    "    print(str(i) + \": \" + psr.name)"
   ]
  },
  {
   "cell_type": "markdown",
   "id": "e3dc67ea",
   "metadata": {},
   "source": [
    "## Load run + general diagnostics"
   ]
  },
  {
   "cell_type": "code",
   "execution_count": 4,
   "id": "e95e5563-c35b-4cd4-a133-8c4728b656e8",
   "metadata": {},
   "outputs": [
    {
     "data": {
      "text/plain": [
       "'/scratch/na00078/QuickCW_targeted_runs/post_processing_scripts'"
      ]
     },
     "execution_count": 4,
     "metadata": {},
     "output_type": "execute_result"
    }
   ],
   "source": [
    "pwd"
   ]
  },
  {
   "cell_type": "code",
   "execution_count": 5,
   "id": "98be4105",
   "metadata": {},
   "outputs": [
    {
     "name": "stdout",
     "output_type": "stream",
     "text": [
      "['T-ladder', 'acc_fraction', 'fisher_diag', 'log_likelihood', 'par_names', 'samples_cold']\n",
      "(73720000, 8)\n",
      "(1, 73720000)\n"
     ]
    }
   ],
   "source": [
    "#'''\n",
    "with h5py.File('/scratch/na00078/QuickCW_targeted_runs/results/NGC3115_outfile.h5', 'r') as f:\n",
    "    print(list(f.keys()))\n",
    "    Ts = f['T-ladder'][...]\n",
    "    samples_cold = f['samples_cold'][:,:,:]\n",
    "    print(samples_cold[-1].shape)\n",
    "    log_likelihood = f['log_likelihood'][:1,:]\n",
    "    print(log_likelihood.shape)\n",
    "    par_names = [x.decode('UTF-8') for x in list(f['par_names'])]\n",
    "    acc_fraction = f['acc_fraction'][...]\n",
    "    fisher_diag = f['fisher_diag'][...]\n",
    "#'''"
   ]
  },
  {
   "cell_type": "code",
   "execution_count": 6,
   "id": "69dc8478",
   "metadata": {
    "jupyter": {
     "outputs_hidden": true
    },
    "scrolled": true,
    "tags": []
   },
   "outputs": [
    {
     "name": "stdout",
     "output_type": "stream",
     "text": [
      "{'0_cos_gwtheta': nan, '0_cos_inc': nan, '0_gwphi': nan, '0_log10_fgw': nan, '0_log10_h': nan, '0_log10_mc': nan, '0_phase0': nan, '0_psi': nan, 'B1855+09_red_noise_gamma': 3.8866806405154866, 'B1855+09_red_noise_log10_A': -13.938023943317408, 'B1855+09_cw0_p_dist': 0.0, 'B1855+09_cw0_p_phase': nan, 'B1937+21_red_noise_gamma': 4.551004266758053, 'B1937+21_red_noise_log10_A': -13.69093024601203, 'B1937+21_cw0_p_dist': 0.0, 'B1937+21_cw0_p_phase': nan, 'B1953+29_red_noise_gamma': 2.793077624043318, 'B1953+29_red_noise_log10_A': -13.004421069091189, 'B1953+29_cw0_p_dist': 0.0, 'B1953+29_cw0_p_phase': nan, 'J0023+0923_red_noise_gamma': 0.4582094332106858, 'J0023+0923_red_noise_log10_A': -13.298758385319621, 'J0023+0923_cw0_p_dist': 0.0, 'J0023+0923_cw0_p_phase': nan, 'J0030+0451_red_noise_gamma': 4.009012812150594, 'J0030+0451_red_noise_log10_A': -14.202025126236615, 'J0030+0451_cw0_p_dist': 0.0, 'J0030+0451_cw0_p_phase': nan, 'J0340+4130_red_noise_gamma': 1.9786872033091054, 'J0340+4130_red_noise_log10_A': -16.25934340789635, 'J0340+4130_cw0_p_dist': 0.0, 'J0340+4130_cw0_p_phase': nan, 'J0406+3039_red_noise_gamma': 2.445692914119723, 'J0406+3039_red_noise_log10_A': -15.61397244718639, 'J0406+3039_cw0_p_dist': 0.0, 'J0406+3039_cw0_p_phase': nan, 'J0437-4715_red_noise_gamma': 6.5930418409652995, 'J0437-4715_red_noise_log10_A': -18.096063536770448, 'J0437-4715_cw0_p_dist': 0.0, 'J0437-4715_cw0_p_phase': nan, 'J0509+0856_red_noise_gamma': 6.503617701514766, 'J0509+0856_red_noise_log10_A': -16.610071349282727, 'J0509+0856_cw0_p_dist': 0.0, 'J0509+0856_cw0_p_phase': nan, 'J0557+1551_red_noise_gamma': 0.2591062238787053, 'J0557+1551_red_noise_log10_A': -14.210775001455843, 'J0557+1551_cw0_p_dist': 0.0, 'J0557+1551_cw0_p_phase': nan, 'J0605+3757_red_noise_gamma': 5.703894804549367, 'J0605+3757_red_noise_log10_A': -13.594288316447843, 'J0605+3757_cw0_p_dist': 0.0, 'J0605+3757_cw0_p_phase': nan, 'J0610-2100_red_noise_gamma': 3.716487154079033, 'J0610-2100_red_noise_log10_A': -12.691253144495533, 'J0610-2100_cw0_p_dist': 0.0, 'J0610-2100_cw0_p_phase': nan, 'J0613-0200_red_noise_gamma': 3.944740272547888, 'J0613-0200_red_noise_log10_A': -13.974337472824725, 'J0613-0200_cw0_p_dist': 0.0, 'J0613-0200_cw0_p_phase': nan, 'J0636+5128_red_noise_gamma': 2.3435411458673525, 'J0636+5128_red_noise_log10_A': -16.91935912142078, 'J0636+5128_cw0_p_dist': 0.0, 'J0636+5128_cw0_p_phase': nan, 'J0645+5158_red_noise_gamma': 0.6912237789361811, 'J0645+5158_red_noise_log10_A': -13.348167278583986, 'J0645+5158_cw0_p_dist': 0.0, 'J0645+5158_cw0_p_phase': nan, 'J0709+0458_red_noise_gamma': 3.5029407043208813, 'J0709+0458_red_noise_log10_A': -17.624143775320704, 'J0709+0458_cw0_p_dist': 0.0, 'J0709+0458_cw0_p_phase': nan, 'J0740+6620_red_noise_gamma': 1.4924201677013311, 'J0740+6620_red_noise_log10_A': -17.413306619463793, 'J0740+6620_cw0_p_dist': 0.0, 'J0740+6620_cw0_p_phase': nan, 'J0931-1902_red_noise_gamma': 5.602369096446976, 'J0931-1902_red_noise_log10_A': -15.929720315254674, 'J0931-1902_cw0_p_dist': 0.0, 'J0931-1902_cw0_p_phase': nan, 'J1012+5307_red_noise_gamma': 0.6309966693091575, 'J1012+5307_red_noise_log10_A': -12.522985647730808, 'J1012+5307_cw0_p_dist': 0.0, 'J1012+5307_cw0_p_phase': nan, 'J1012-4235_red_noise_gamma': 2.6130718818123504, 'J1012-4235_red_noise_log10_A': -12.800196982799909, 'J1012-4235_cw0_p_dist': 0.0, 'J1012-4235_cw0_p_phase': nan, 'J1022+1001_red_noise_gamma': 0.2983898679739191, 'J1022+1001_red_noise_log10_A': -12.150747092248933, 'J1022+1001_cw0_p_dist': 0.0, 'J1022+1001_cw0_p_phase': nan, 'J1024-0719_red_noise_gamma': 1.313174804647659, 'J1024-0719_red_noise_log10_A': -16.038697459503112, 'J1024-0719_cw0_p_dist': 0.0, 'J1024-0719_cw0_p_phase': nan, 'J1125+7819_red_noise_gamma': 3.61685969883854, 'J1125+7819_red_noise_log10_A': -16.40638014623718, 'J1125+7819_cw0_p_dist': 0.0, 'J1125+7819_cw0_p_phase': nan, 'J1312+0051_red_noise_gamma': 5.563110096965568, 'J1312+0051_red_noise_log10_A': -15.445935416945067, 'J1312+0051_cw0_p_dist': 0.0, 'J1312+0051_cw0_p_phase': nan, 'J1453+1902_red_noise_gamma': 1.599648629894359, 'J1453+1902_red_noise_log10_A': -13.835496093856674, 'J1453+1902_cw0_p_dist': 0.0, 'J1453+1902_cw0_p_phase': nan, 'J1455-3330_red_noise_gamma': 0.6002743573759041, 'J1455-3330_red_noise_log10_A': -17.23036781589139, 'J1455-3330_cw0_p_dist': 0.0, 'J1455-3330_cw0_p_phase': nan, 'J1600-3053_red_noise_gamma': 4.957518246113333, 'J1600-3053_red_noise_log10_A': -16.257430568637574, 'J1600-3053_cw0_p_dist': 0.0, 'J1600-3053_cw0_p_phase': nan, 'J1614-2230_red_noise_gamma': 6.792927793172769, 'J1614-2230_red_noise_log10_A': -16.68499759618632, 'J1614-2230_cw0_p_dist': 0.0, 'J1614-2230_cw0_p_phase': nan, 'J1630+3734_red_noise_gamma': 6.790092125992734, 'J1630+3734_red_noise_log10_A': -15.826234899944385, 'J1630+3734_cw0_p_dist': 0.0, 'J1630+3734_cw0_p_phase': nan, 'J1640+2224_red_noise_gamma': 0.9361965830916703, 'J1640+2224_red_noise_log10_A': -14.710962629645477, 'J1640+2224_cw0_p_dist': 0.0, 'J1640+2224_cw0_p_phase': nan, 'J1643-1224_red_noise_gamma': 1.0965529995262793, 'J1643-1224_red_noise_log10_A': -12.294098158593679, 'J1643-1224_cw0_p_dist': 0.0, 'J1643-1224_cw0_p_phase': nan, 'J1705-1903_red_noise_gamma': 0.4055774455638343, 'J1705-1903_red_noise_log10_A': -11.879848779558715, 'J1705-1903_cw0_p_dist': 0.0, 'J1705-1903_cw0_p_phase': nan, 'J1713+0747_red_noise_gamma': 3.081985030038712, 'J1713+0747_red_noise_log10_A': -16.066325048151608, 'J1713+0747_cw0_p_dist': 0.0, 'J1713+0747_cw0_p_phase': nan, 'J1719-1438_red_noise_gamma': 6.628859831524863, 'J1719-1438_red_noise_log10_A': -16.19252911903118, 'J1719-1438_cw0_p_dist': 0.0, 'J1719-1438_cw0_p_phase': nan, 'J1730-2304_red_noise_gamma': 5.615049413645516, 'J1730-2304_red_noise_log10_A': -14.981914038362886, 'J1730-2304_cw0_p_dist': 0.0, 'J1730-2304_cw0_p_phase': nan, 'J1738+0333_red_noise_gamma': 2.0126172236765716, 'J1738+0333_red_noise_log10_A': -13.544780709395424, 'J1738+0333_cw0_p_dist': 0.0, 'J1738+0333_cw0_p_phase': nan, 'J1741+1351_red_noise_gamma': 4.825619177076613, 'J1741+1351_red_noise_log10_A': -15.652396790148277, 'J1741+1351_cw0_p_dist': 0.0, 'J1741+1351_cw0_p_phase': nan, 'J1744-1134_red_noise_gamma': 4.363630251493152, 'J1744-1134_red_noise_log10_A': -14.430544574679868, 'J1744-1134_cw0_p_dist': 0.0, 'J1744-1134_cw0_p_phase': nan, 'J1745+1017_red_noise_gamma': 2.4625774319745424, 'J1745+1017_red_noise_log10_A': -11.742785263272056, 'J1745+1017_cw0_p_dist': 0.0, 'J1745+1017_cw0_p_phase': nan, 'J1747-4036_red_noise_gamma': 2.684312721354293, 'J1747-4036_red_noise_log10_A': -12.461330476589973, 'J1747-4036_cw0_p_dist': 0.0, 'J1747-4036_cw0_p_phase': nan, 'J1751-2857_red_noise_gamma': 3.6789955618129904, 'J1751-2857_red_noise_log10_A': -13.228460529561078, 'J1751-2857_cw0_p_dist': 0.0, 'J1751-2857_cw0_p_phase': nan, 'J1802-2124_red_noise_gamma': 0.4172676682258413, 'J1802-2124_red_noise_log10_A': -12.080768146158137, 'J1802-2124_cw0_p_dist': 0.0, 'J1802-2124_cw0_p_phase': nan, 'J1811-2405_red_noise_gamma': 1.6679555530990688, 'J1811-2405_red_noise_log10_A': -16.7742688195429, 'J1811-2405_cw0_p_dist': 0.0, 'J1811-2405_cw0_p_phase': nan, 'J1832-0836_red_noise_gamma': 1.89814742981676, 'J1832-0836_red_noise_log10_A': -17.21395336565346, 'J1832-0836_cw0_p_dist': 0.0, 'J1832-0836_cw0_p_phase': nan, 'J1843-1113_red_noise_gamma': 0.20514228773885862, 'J1843-1113_red_noise_log10_A': -14.741928338477088, 'J1843-1113_cw0_p_dist': 0.0, 'J1843-1113_cw0_p_phase': nan, 'J1853+1303_red_noise_gamma': 2.186811772401027, 'J1853+1303_red_noise_log10_A': -13.465171590411858, 'J1853+1303_cw0_p_dist': 0.0, 'J1853+1303_cw0_p_phase': nan, 'J1903+0327_red_noise_gamma': 1.8225960071824103, 'J1903+0327_red_noise_log10_A': -12.219946384657113, 'J1903+0327_cw0_p_dist': 0.0, 'J1903+0327_cw0_p_phase': nan, 'J1909-3744_red_noise_gamma': 3.3275893149106897, 'J1909-3744_red_noise_log10_A': -17.402908202358645, 'J1909-3744_cw0_p_dist': 0.0, 'J1909-3744_cw0_p_phase': nan, 'J1910+1256_red_noise_gamma': 1.2579665222284724, 'J1910+1256_red_noise_log10_A': -15.730268421786711, 'J1910+1256_cw0_p_dist': 0.0, 'J1910+1256_cw0_p_phase': nan, 'J1911+1347_red_noise_gamma': 3.8660232224399653, 'J1911+1347_red_noise_log10_A': -16.70876920736361, 'J1911+1347_cw0_p_dist': 0.0, 'J1911+1347_cw0_p_phase': nan, 'J1918-0642_red_noise_gamma': 0.8048926452845986, 'J1918-0642_red_noise_log10_A': -15.533531190730118, 'J1918-0642_cw0_p_dist': 0.0, 'J1918-0642_cw0_p_phase': nan, 'J1923+2515_red_noise_gamma': 2.349972035868289, 'J1923+2515_red_noise_log10_A': -16.869445729553554, 'J1923+2515_cw0_p_dist': 0.0, 'J1923+2515_cw0_p_phase': nan, 'J1944+0907_red_noise_gamma': 1.8561650382412558, 'J1944+0907_red_noise_log10_A': -13.27901454906211, 'J1944+0907_cw0_p_dist': 0.0, 'J1944+0907_cw0_p_phase': nan, 'J1946+3417_red_noise_gamma': 1.2471603841759475, 'J1946+3417_red_noise_log10_A': -12.54300664903146, 'J1946+3417_cw0_p_dist': 0.0, 'J1946+3417_cw0_p_phase': nan, 'J2010-1323_red_noise_gamma': 2.0047699130032304, 'J2010-1323_red_noise_log10_A': -16.121940277375323, 'J2010-1323_cw0_p_dist': 0.0, 'J2010-1323_cw0_p_phase': nan, 'J2017+0603_red_noise_gamma': 3.0736662544629683, 'J2017+0603_red_noise_log10_A': -15.652118248328366, 'J2017+0603_cw0_p_dist': 0.0, 'J2017+0603_cw0_p_phase': nan, 'J2033+1734_red_noise_gamma': 6.5684233854351115, 'J2033+1734_red_noise_log10_A': -16.14468257563011, 'J2033+1734_cw0_p_dist': 0.0, 'J2033+1734_cw0_p_phase': nan, 'J2043+1711_red_noise_gamma': 3.488308849036269, 'J2043+1711_red_noise_log10_A': -17.79813163032176, 'J2043+1711_cw0_p_dist': 0.0, 'J2043+1711_cw0_p_phase': nan, 'J2124-3358_red_noise_gamma': 4.876700799303719, 'J2124-3358_red_noise_log10_A': -13.950199507233375, 'J2124-3358_cw0_p_dist': 0.0, 'J2124-3358_cw0_p_phase': nan, 'J2145-0750_red_noise_gamma': 1.2367246970925108, 'J2145-0750_red_noise_log10_A': -12.930166995114318, 'J2145-0750_cw0_p_dist': 0.0, 'J2145-0750_cw0_p_phase': nan, 'J2214+3000_red_noise_gamma': 1.4245787557586136, 'J2214+3000_red_noise_log10_A': -17.123840040975942, 'J2214+3000_cw0_p_dist': 0.0, 'J2214+3000_cw0_p_phase': nan, 'J2229+2643_red_noise_gamma': 4.0681871523209, 'J2229+2643_red_noise_log10_A': -19.32046348225789, 'J2229+2643_cw0_p_dist': 0.0, 'J2229+2643_cw0_p_phase': nan, 'J2234+0611_red_noise_gamma': 2.302140919768435, 'J2234+0611_red_noise_log10_A': -13.702570930448056, 'J2234+0611_cw0_p_dist': 0.0, 'J2234+0611_cw0_p_phase': nan, 'J2234+0944_red_noise_gamma': 2.2908177397760134, 'J2234+0944_red_noise_log10_A': -18.222966652355407, 'J2234+0944_cw0_p_dist': 0.0, 'J2234+0944_cw0_p_phase': nan, 'J2302+4442_red_noise_gamma': 0.6864809436960468, 'J2302+4442_red_noise_log10_A': -13.161038175925698, 'J2302+4442_cw0_p_dist': 0.0, 'J2302+4442_cw0_p_phase': nan, 'J2317+1439_red_noise_gamma': 3.099555446232068, 'J2317+1439_red_noise_log10_A': -19.447753333785272, 'J2317+1439_cw0_p_dist': 0.0, 'J2317+1439_cw0_p_phase': nan, 'J2322+2057_red_noise_gamma': 1.6700333223323403, 'J2322+2057_red_noise_log10_A': -17.30323104416495, 'J2322+2057_cw0_p_dist': 0.0, 'J2322+2057_cw0_p_phase': nan, 'gwb_gamma': nan, 'gwb_log10_A': nan}\n"
     ]
    }
   ],
   "source": [
    "#set up dictionary with true values of parameters\n",
    "#set it to nan where not known\n",
    "\n",
    "KPC2S = sc.parsec / sc.c * 1e3\n",
    "SOLAR2S = sc.G / sc.c ** 3 * 1.98855e30\n",
    "\n",
    "xxx = {\"0_cos_gwtheta\":np.nan,\n",
    "       \"0_cos_inc\":np.nan,\n",
    "       \"0_gwphi\":np.nan,\n",
    "       \"0_log10_fgw\":np.nan,\n",
    "       \"0_log10_h\":np.nan,\n",
    "       \"0_log10_mc\":np.nan,\n",
    "       \"0_phase0\":np.nan,\n",
    "       \"0_psi\":np.nan}\n",
    "\n",
    "singwtheta = np.sin(np.arccos(xxx['0_cos_gwtheta']))\n",
    "cosgwtheta = xxx['0_cos_gwtheta']\n",
    "singwphi = np.sin(xxx[\"0_gwphi\"])\n",
    "cosgwphi = np.cos(xxx[\"0_gwphi\"])\n",
    "omhat = np.array([-singwtheta * cosgwphi, -singwtheta * singwphi, -cosgwtheta])\n",
    "\n",
    "with open('/scratch/na00078/15yr_data/15yr_v1_1/v1p1_all_dict.json', 'r') as fp:\n",
    "        noisedict = json.load(fp)\n",
    "\n",
    "for j in range(len(psrs)):\n",
    "    xxx[psrs[j].name+\"_red_noise_gamma\"] = noisedict[psrs[j].name+\"_red_noise_gamma\"]\n",
    "    xxx[psrs[j].name+\"_red_noise_log10_A\"] = noisedict[psrs[j].name+\"_red_noise_log10_A\"]\n",
    "    xxx[psrs[j].name+\"_cw0_p_dist\"] = 0.0\n",
    "    \n",
    "    #ptheta = psrs[j].theta\n",
    "    #pphi = psrs[j].phi\n",
    "    #\n",
    "    #phat = np.array([np.sin(ptheta) * np.cos(pphi), np.sin(ptheta) * np.sin(pphi), np.cos(ptheta)])\n",
    "    #cosMu = -np.dot(omhat, phat)\n",
    "    #\n",
    "    #pphase = (1 + 256/5 * (10**xxx['0_log10_mc']*SOLAR2S)**(5/3) * (np.pi * 10**xxx['0_log10_fgw'])**(8/3)\n",
    "    #          * psrs[j].pdist[0]*KPC2S*(1-cosMu)) ** (5/8) - 1\n",
    "    #pphase /= 32 * (10**xxx['0_log10_mc']*SOLAR2S)**(5/3) * (np.pi * 10**xxx['0_log10_fgw'])**(5/3)\n",
    "    #\n",
    "    #xxx[psrs[j].name+\"_cw0_p_phase\"] = -pphase%(2*np.pi)  \n",
    "    xxx[psrs[j].name+\"_cw0_p_phase\"] = np.nan\n",
    "    \n",
    "xxx['gwb_gamma'] = np.nan    \n",
    "xxx['gwb_log10_A'] = np.nan\n",
    "    \n",
    "print(xxx)"
   ]
  },
  {
   "cell_type": "markdown",
   "id": "9ef620c0",
   "metadata": {},
   "source": [
    "## Parameter traces and corner plots"
   ]
  },
  {
   "cell_type": "code",
   "execution_count": null,
   "id": "8b65fa69-aaf0-452d-ad20-41b3654c8a7b",
   "metadata": {
    "scrolled": false
   },
   "outputs": [
    {
     "name": "stderr",
     "output_type": "stream",
     "text": [
      "WARNING:root:Too few points to create valid contours\n",
      "WARNING:root:Too few points to create valid contours\n",
      "WARNING:root:Too few points to create valid contours\n",
      "WARNING:root:Too few points to create valid contours\n",
      "WARNING:root:Too few points to create valid contours\n",
      "WARNING:root:Too few points to create valid contours\n",
      "WARNING:root:Too few points to create valid contours\n",
      "WARNING:root:Too few points to create valid contours\n"
     ]
    }
   ],
   "source": [
    "#corner plot of parameters common to all pulsars UNIFORM PRIOR\n",
    "\n",
    "corner_mask = [0, 1, 2, 3, 4, 5, 6, 7]\n",
    "par_keys = [\"0_cos_gwtheta\", \"0_cos_inc\", \"0_gwphi\", \"0_log10_fgw\",\n",
    "          \"0_log10_h\", \"0_log10_mc\", \"0_phase0\", \"0_psi\"]\n",
    "labels = [r\"$\\cos \\theta$\", r\"$\\cos \\iota$\", r\"$\\phi$\", r\"$\\log_{10} f_{\\rm GW}$\",\n",
    "          r\"$\\log_{10} A_{\\rm e}$\", r\"$\\log_{10} {\\cal M}$\", r\"$\\Phi_0$\", r\"$\\psi$\"]\n",
    "\n",
    "\n",
    "#set ranges\n",
    "ranges = [(-1,1), (-1,1), (0,2*np.pi), (np.log10(3.5e-9),-7), (-18,-11), (5,10), (0,2*np.pi), (0,np.pi) ]\n",
    "\n",
    "#set burnin and thinning\n",
    "burnin = 10000000\n",
    "thin = 1\n",
    "\n",
    "truth = [xxx[key] for key in par_keys]\n",
    "fig = corner.corner(samples_cold[0][burnin::thin,corner_mask], labels=labels, show_titles=True, # quantiles=[0.16, 0.5, 0.84],\n",
    "                    truths=truth, range=ranges, hist_kwargs={\"density\":True})\n",
    "\n",
    "#plot priors over 1D posteriors\n",
    "for i, ax in enumerate(fig.axes):\n",
    "    if i==0 or i==(len(labels)+1): #cos inc and cos theta\n",
    "        Xs = np.linspace(-1,1)\n",
    "        ax.plot(Xs, Xs*0+1/2, color=\"xkcd:green\")\n",
    "    elif i==2*(len(labels)+1) or i==6*(len(labels)+1): #gwphi and phase0\n",
    "        Xs = np.linspace(0,2*np.pi)\n",
    "        ax.plot(Xs, Xs*0+1/(2*np.pi), color=\"xkcd:green\")\n",
    "    elif i==3*(len(labels)+1): #log10_fgw\n",
    "        Xs = np.linspace(np.log10(3.5e-9), -7.0)\n",
    "        ax.plot(Xs, Xs*0+1/(-7-np.log10(3.5e-9)), color=\"xkcd:green\")\n",
    "    elif i==4*(len(labels)+1): #log10_A\n",
    "        Xs = np.linspace(-18, -11)\n",
    "        ax.plot(Xs, Xs*0+1/7, color=\"xkcd:green\")\n",
    "    elif i==5*(len(labels)+1): #log10_M_ch\n",
    "        Xs = np.linspace(7, 12)\n",
    "        ax.plot(Xs, Xs*0+1/3, color=\"xkcd:green\")\n",
    "    elif i==7*(len(labels)+1): #psi\n",
    "        Xs = np.linspace(0,np.pi)\n",
    "        ax.plot(Xs, Xs*0+1/np.pi, color=\"xkcd:green\")\n",
    "        \n",
    "fig.suptitle('NGC3115_targetedfreq_detection', fontsize = 25)\n",
    "#plt.show()\n",
    "plt.savefig(\"/scratch/na00078/QuickCW_targeted_runs/\"+\"NGC3115_targetedfreq_detection.png\")"
   ]
  },
  {
   "cell_type": "code",
   "execution_count": null,
   "id": "f4a56349",
   "metadata": {},
   "outputs": [],
   "source": []
  },
  {
   "cell_type": "code",
   "execution_count": null,
   "id": "7b32b576-0504-4586-a10b-28bd464619b2",
   "metadata": {
    "tags": []
   },
   "outputs": [],
   "source": []
  },
  {
   "cell_type": "code",
   "execution_count": null,
   "id": "cfa87ccf",
   "metadata": {},
   "outputs": [],
   "source": []
  },
  {
   "cell_type": "code",
   "execution_count": null,
   "id": "7cf13caf",
   "metadata": {},
   "outputs": [],
   "source": []
  }
 ],
 "metadata": {
  "kernelspec": {
   "display_name": "Python 3",
   "language": "python",
   "name": "python3"
  },
  "language_info": {
   "codemirror_mode": {
    "name": "ipython",
    "version": 3
   },
   "file_extension": ".py",
   "mimetype": "text/x-python",
   "name": "python",
   "nbconvert_exporter": "python",
   "pygments_lexer": "ipython3",
   "version": "3.9.12"
  },
  "toc": {
   "base_numbering": 1,
   "nav_menu": {},
   "number_sections": true,
   "sideBar": true,
   "skip_h1_title": false,
   "title_cell": "Table of Contents",
   "title_sidebar": "Contents",
   "toc_cell": false,
   "toc_position": {},
   "toc_section_display": true,
   "toc_window_display": true
  }
 },
 "nbformat": 4,
 "nbformat_minor": 5
}
